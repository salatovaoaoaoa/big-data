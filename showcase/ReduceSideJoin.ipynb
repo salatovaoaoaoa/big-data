{
 "cells": [
  {
   "cell_type": "code",
   "execution_count": 1,
   "id": "4b4ebc61-c64f-4f08-9c3f-b447385b5503",
   "metadata": {},
   "outputs": [
    {
     "name": "stdout",
     "output_type": "stream",
     "text": [
      "Collecting mrjob\n",
      "  Downloading mrjob-0.7.4-py2.py3-none-any.whl (439 kB)\n",
      "\u001b[2K     \u001b[90m━━━━━━━━━━━━━━━━━━━━━━━━━━━━━━━━━━━━━━━\u001b[0m \u001b[32m439.6/439.6 KB\u001b[0m \u001b[31m2.6 MB/s\u001b[0m eta \u001b[36m0:00:00\u001b[0ma \u001b[36m0:00:01\u001b[0m\n",
      "\u001b[?25hRequirement already satisfied: PyYAML>=3.10 in /usr/local/lib/python3.10/dist-packages (from mrjob) (6.0.1)\n",
      "Installing collected packages: mrjob\n",
      "Successfully installed mrjob-0.7.4\n",
      "\u001b[33mWARNING: Running pip as the 'root' user can result in broken permissions and conflicting behaviour with the system package manager. It is recommended to use a virtual environment instead: https://pip.pypa.io/warnings/venv\u001b[0m\u001b[33m\n",
      "\u001b[0m"
     ]
    }
   ],
   "source": [
    "!pip install mrjob"
   ]
  },
  {
   "cell_type": "code",
   "execution_count": 32,
   "id": "e87a2add-3dde-4390-b5e8-632ef4a40b04",
   "metadata": {},
   "outputs": [
    {
     "name": "stdout",
     "output_type": "stream",
     "text": [
      "Overwriting join.py\n"
     ]
    }
   ],
   "source": [
    "%%file join.py\n",
    "\n",
    "import sys, os, re\n",
    "from mrjob.job import MRJob\n",
    "\n",
    "class MRJoin(MRJob):\n",
    "  \n",
    "  SORT_VALUES = True\n",
    "  \n",
    "  def mapper(self, _, line):    \n",
    "    splits = line.rstrip(\"\\n\").split(\"|\")\n",
    "    \n",
    "    if len(splits) == 2: # user data\n",
    "      name = splits[0]\n",
    "      team_id = splits[1]\n",
    "      yield team_id, (\"user\", name)\n",
    "        \n",
    "    else: # country data\n",
    "      team_name = splits[0]\n",
    "      country_index = splits[1]\n",
    "      team_id = splits[2]\n",
    "      yield team_id, (\"team\", team_name, country_index)\n",
    "\n",
    "  def reducer(self, key, values):\n",
    "    values = [x for x in values]\n",
    "    team_data = ()        \n",
    "    \n",
    "    for x in values:\n",
    "      if x[0] == \"team\":\n",
    "          team_data = x\n",
    "          break\n",
    "\n",
    "    if team_data is ():\n",
    "        pass\n",
    "    else:\n",
    "        for x in values:\n",
    "            if x[0] == \"user\":\n",
    "                yield(None, (x[1], team_data[1], team_data[2]))\n",
    "      \n",
    "if __name__ == '__main__':\n",
    "  MRJoin.run()"
   ]
  },
  {
   "cell_type": "code",
   "execution_count": 33,
   "id": "c5810270-24fa-47e3-9119-5a220424b3f8",
   "metadata": {},
   "outputs": [
    {
     "name": "stdout",
     "output_type": "stream",
     "text": [
      "Overwriting teams.txt\n"
     ]
    }
   ],
   "source": [
    "%%file teams.txt\n",
    "Telepuziki|US|1001\n",
    "Romashka|CA|1002\n",
    "Zaichiki|UK|1004\n",
    "Lapsha|IT|1200\n",
    "Medvejata|RU|2321"
   ]
  },
  {
   "cell_type": "code",
   "execution_count": 34,
   "id": "9421e2f7-0e93-4382-95d4-7c531d44ac86",
   "metadata": {},
   "outputs": [
    {
     "name": "stdout",
     "output_type": "stream",
     "text": [
      "Overwriting users.txt\n"
     ]
    }
   ],
   "source": [
    "%%file users.txt\n",
    "Alice Bob|1001\n",
    "Sam Sneed|1002\n",
    "Jon Sneed|1002\n",
    "Arnold Wesise|1004\n",
    "Alice Wesise|1004\n",
    "Henry Bob|1001\n",
    "Yo Yo Ma|1006\n",
    "Jon York|1002\n",
    "Alex Ball|1004\n",
    "Jim Davis|1008\n",
    "A Chou|1008"
   ]
  },
  {
   "cell_type": "code",
   "execution_count": 36,
   "id": "e49259a4-fc17-4071-9aed-7cca958e65b7",
   "metadata": {},
   "outputs": [
    {
     "name": "stdout",
     "output_type": "stream",
     "text": [
      "/opt/join.py:32: SyntaxWarning: \"is\" with a literal. Did you mean \"==\"?\n",
      "  if team_data is ():\n",
      "No configs found; falling back on auto-configuration\n",
      "No configs specified for inline runner\n",
      "Creating temp directory /tmp/join.root.20231115.101140.501302\n",
      "Running step 1 of 1...\n",
      "job output is in /tmp/join.root.20231115.101140.501302/output\n",
      "Streaming final output from /tmp/join.root.20231115.101140.501302/output...\n",
      "null\t[\"Jon Sneed\", \"Romashka\", \"CA\"]\n",
      "null\t[\"Jon York\", \"Romashka\", \"CA\"]\n",
      "null\t[\"Sam Sneed\", \"Romashka\", \"CA\"]\n",
      "null\t[\"Alex Ball\", \"Zaichiki\", \"UK\"]\n",
      "null\t[\"Alice Wesise\", \"Zaichiki\", \"UK\"]\n",
      "null\t[\"Arnold Wesise\", \"Zaichiki\", \"UK\"]\n",
      "null\t[\"Alice Bob\", \"Telepuziki\", \"US\"]\n",
      "null\t[\"Henry Bob\", \"Telepuziki\", \"US\"]\n",
      "Removing temp directory /tmp/join.root.20231115.101140.501302...\n"
     ]
    }
   ],
   "source": [
    "!python3 join.py teams.txt users.txt"
   ]
  },
  {
   "cell_type": "code",
   "execution_count": 19,
   "id": "8d166277-6157-4dd5-8d0a-8cba26ca28d4",
   "metadata": {},
   "outputs": [],
   "source": [
    "!hadoop fs -put countries.txt /externalData"
   ]
  },
  {
   "cell_type": "code",
   "execution_count": 20,
   "id": "d06a63bf-13a1-49ab-9fea-adc07d268747",
   "metadata": {},
   "outputs": [],
   "source": [
    "!hadoop fs -put users.txt /externalData"
   ]
  },
  {
   "cell_type": "code",
   "execution_count": null,
   "id": "7dafbcb9-bf23-4d43-8bd4-2b52e3785f05",
   "metadata": {},
   "outputs": [],
   "source": []
  }
 ],
 "metadata": {
  "kernelspec": {
   "display_name": "Python 3 (ipykernel)",
   "language": "python",
   "name": "python3"
  },
  "language_info": {
   "codemirror_mode": {
    "name": "ipython",
    "version": 3
   },
   "file_extension": ".py",
   "mimetype": "text/x-python",
   "name": "python",
   "nbconvert_exporter": "python",
   "pygments_lexer": "ipython3",
   "version": "3.10.12"
  }
 },
 "nbformat": 4,
 "nbformat_minor": 5
}
